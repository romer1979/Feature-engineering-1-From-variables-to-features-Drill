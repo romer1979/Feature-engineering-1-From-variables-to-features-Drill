{
 "cells": [
  {
   "cell_type": "code",
   "execution_count": 77,
   "metadata": {},
   "outputs": [],
   "source": [
    "import matplotlib.pyplot as plt\n",
    "import seaborn as sns\n",
    "import numpy as np\n",
    "import pandas as pd\n",
    "import seaborn as sns\n",
    "import scipy.stats as stats\n",
    "from scipy.stats.mstats import winsorize\n",
    "from sqlalchemy import create_engine\n",
    "import warnings\n",
    "warnings.filterwarnings('ignore')"
   ]
  },
  {
   "cell_type": "code",
   "execution_count": 78,
   "metadata": {},
   "outputs": [],
   "source": [
    "postgres_user = 'dsbc_student'\n",
    "postgres_pw = '7*.8G9QH21'\n",
    "postgres_host = '142.93.121.174'\n",
    "postgres_port = '5432'\n",
    "postgres_db = 'studentsperformance'\n",
    "\n",
    "engine = create_engine('postgresql://{}:{}@{}:{}/{}'.format(\n",
    "    postgres_user, postgres_pw, postgres_host, postgres_port, postgres_db))\n",
    "\n",
    "student = pd.read_sql_query('select * from studentsperformance',con=engine)\n",
    "\n",
    "engine.dispose()"
   ]
  },
  {
   "cell_type": "code",
   "execution_count": 52,
   "metadata": {},
   "outputs": [
    {
     "data": {
      "text/html": [
       "<div>\n",
       "<style scoped>\n",
       "    .dataframe tbody tr th:only-of-type {\n",
       "        vertical-align: middle;\n",
       "    }\n",
       "\n",
       "    .dataframe tbody tr th {\n",
       "        vertical-align: top;\n",
       "    }\n",
       "\n",
       "    .dataframe thead th {\n",
       "        text-align: right;\n",
       "    }\n",
       "</style>\n",
       "<table border=\"1\" class=\"dataframe\">\n",
       "  <thead>\n",
       "    <tr style=\"text-align: right;\">\n",
       "      <th></th>\n",
       "      <th>gender</th>\n",
       "      <th>race/ethnicity</th>\n",
       "      <th>parental level of education</th>\n",
       "      <th>lunch</th>\n",
       "      <th>test preparation course</th>\n",
       "      <th>math score</th>\n",
       "      <th>reading score</th>\n",
       "      <th>writing score</th>\n",
       "    </tr>\n",
       "  </thead>\n",
       "  <tbody>\n",
       "    <tr>\n",
       "      <th>0</th>\n",
       "      <td>female</td>\n",
       "      <td>group B</td>\n",
       "      <td>bachelor's degree</td>\n",
       "      <td>standard</td>\n",
       "      <td>none</td>\n",
       "      <td>72</td>\n",
       "      <td>72</td>\n",
       "      <td>74</td>\n",
       "    </tr>\n",
       "    <tr>\n",
       "      <th>1</th>\n",
       "      <td>female</td>\n",
       "      <td>group C</td>\n",
       "      <td>some college</td>\n",
       "      <td>standard</td>\n",
       "      <td>completed</td>\n",
       "      <td>69</td>\n",
       "      <td>90</td>\n",
       "      <td>88</td>\n",
       "    </tr>\n",
       "    <tr>\n",
       "      <th>2</th>\n",
       "      <td>female</td>\n",
       "      <td>group B</td>\n",
       "      <td>master's degree</td>\n",
       "      <td>standard</td>\n",
       "      <td>none</td>\n",
       "      <td>90</td>\n",
       "      <td>95</td>\n",
       "      <td>93</td>\n",
       "    </tr>\n",
       "    <tr>\n",
       "      <th>3</th>\n",
       "      <td>male</td>\n",
       "      <td>group A</td>\n",
       "      <td>associate's degree</td>\n",
       "      <td>free/reduced</td>\n",
       "      <td>none</td>\n",
       "      <td>47</td>\n",
       "      <td>57</td>\n",
       "      <td>44</td>\n",
       "    </tr>\n",
       "    <tr>\n",
       "      <th>4</th>\n",
       "      <td>male</td>\n",
       "      <td>group C</td>\n",
       "      <td>some college</td>\n",
       "      <td>standard</td>\n",
       "      <td>none</td>\n",
       "      <td>76</td>\n",
       "      <td>78</td>\n",
       "      <td>75</td>\n",
       "    </tr>\n",
       "  </tbody>\n",
       "</table>\n",
       "</div>"
      ],
      "text/plain": [
       "   gender race/ethnicity parental level of education         lunch  \\\n",
       "0  female        group B           bachelor's degree      standard   \n",
       "1  female        group C                some college      standard   \n",
       "2  female        group B             master's degree      standard   \n",
       "3    male        group A          associate's degree  free/reduced   \n",
       "4    male        group C                some college      standard   \n",
       "\n",
       "  test preparation course  math score  reading score  writing score  \n",
       "0                    none          72             72             74  \n",
       "1               completed          69             90             88  \n",
       "2                    none          90             95             93  \n",
       "3                    none          47             57             44  \n",
       "4                    none          76             78             75  "
      ]
     },
     "execution_count": 52,
     "metadata": {},
     "output_type": "execute_result"
    }
   ],
   "source": [
    "student.head()"
   ]
  },
  {
   "cell_type": "code",
   "execution_count": 79,
   "metadata": {},
   "outputs": [
    {
     "name": "stdout",
     "output_type": "stream",
     "text": [
      "Jarque-Bera test statistics is 15.912256686712709 and p value is 0.0003505075386818213\n",
      "Normality test statistics is 15.408960513931822 and p value is 0.00045080293869937836\n",
      "Jarque-Bera test statistics is 11.383300575987892 and p value is 0.0033740202672214448\n",
      "Normality test statistics is 11.11741279628622 and p value is 0.003853758403576582\n",
      "Jarque-Bera test statistics is 13.98509448257235 and p value is 0.0009187033894586527\n",
      "Normality test statistics is 13.606450837263859 and p value is 0.0011101885439899974\n"
     ]
    }
   ],
   "source": [
    "from scipy.stats import jarque_bera\n",
    "from scipy.stats import normaltest\n",
    "\n",
    "jb_stats = jarque_bera(student[\"math score\"])\n",
    "norm_stats = normaltest(student[\"math score\"])\n",
    "\n",
    "print(\"Jarque-Bera test statistics is {0} and p value is {1}\".format(jb_stats[0], jb_stats[1]))\n",
    "print(\"Normality test statistics is {0} and p value is {1}\".format(norm_stats[0], norm_stats[1]))\n",
    "\n",
    "jb_stats = jarque_bera(student[\"reading score\"])\n",
    "norm_stats = normaltest(student[\"reading score\"])\n",
    "\n",
    "print(\"Jarque-Bera test statistics is {0} and p value is {1}\".format(jb_stats[0], jb_stats[1]))\n",
    "print(\"Normality test statistics is {0} and p value is {1}\".format(norm_stats[0], norm_stats[1]))\n",
    "\n",
    "jb_stats = jarque_bera(student[\"writing score\"])\n",
    "norm_stats = normaltest(student[\"writing score\"])\n",
    "\n",
    "print(\"Jarque-Bera test statistics is {0} and p value is {1}\".format(jb_stats[0], jb_stats[1]))\n",
    "print(\"Normality test statistics is {0} and p value is {1}\".format(norm_stats[0], norm_stats[1]))"
   ]
  },
  {
   "cell_type": "markdown",
   "metadata": {},
   "source": [
    "Then results of both Jarque-Bera and Normal test showed that the distribution of exam scores are statistically different from the normal distribution. Therefore, the distribution of exam scores are not normal and they need to be transformed "
   ]
  },
  {
   "cell_type": "code",
   "execution_count": 92,
   "metadata": {},
   "outputs": [],
   "source": [
    "student['math_score'] = student[(student['math score'] > 0)]['math score']"
   ]
  },
  {
   "cell_type": "code",
   "execution_count": 93,
   "metadata": {},
   "outputs": [
    {
     "name": "stdout",
     "output_type": "stream",
     "text": [
      "<class 'pandas.core.frame.DataFrame'>\n",
      "RangeIndex: 1000 entries, 0 to 999\n",
      "Data columns (total 9 columns):\n",
      "gender                         1000 non-null object\n",
      "race/ethnicity                 1000 non-null object\n",
      "parental level of education    1000 non-null object\n",
      "lunch                          1000 non-null object\n",
      "test preparation course        1000 non-null object\n",
      "math score                     1000 non-null int64\n",
      "reading score                  1000 non-null int64\n",
      "writing score                  1000 non-null int64\n",
      "math_score                     999 non-null float64\n",
      "dtypes: float64(1), int64(3), object(5)\n",
      "memory usage: 70.4+ KB\n"
     ]
    }
   ],
   "source": [
    "student.info()"
   ]
  },
  {
   "cell_type": "code",
   "execution_count": 99,
   "metadata": {},
   "outputs": [],
   "source": [
    "from scipy.stats import boxcox\n",
    "\n",
    "math_score_boxcox,_ = boxcox(student[(student['math score'] > 0)]['math score'])\n",
    "reading_score_boxcox,_ = boxcox(student[\"reading score\"])\n",
    "writing_score_boxcox,_ = boxcox(student[\"writing score\"])"
   ]
  },
  {
   "cell_type": "code",
   "execution_count": 100,
   "metadata": {},
   "outputs": [
    {
     "name": "stdout",
     "output_type": "stream",
     "text": [
      "Jarque-Bera test statistics is 1.720098104874378 and p value is 0.4231413256953709\n",
      "Normality test statistics is 1.8323073377495822 and p value is 0.40005482895717037\n",
      "Jarque-Bera test statistics is 4.119778575331906 and p value is 0.1274680814024559\n",
      "Normality test statistics is 5.282274611852865 and p value is 0.07128015609575467\n",
      "Jarque-Bera test statistics is 4.746478090040098 and p value is 0.09317842784055597\n",
      "Normality test statistics is 6.267311355043339 and p value is 0.04355827085023795\n"
     ]
    }
   ],
   "source": [
    "jb_stats = jarque_bera(math_score_boxcox)\n",
    "norm_stats = normaltest(math_score_boxcox)\n",
    "\n",
    "print(\"Jarque-Bera test statistics is {0} and p value is {1}\".format(jb_stats[0], jb_stats[1]))\n",
    "print(\"Normality test statistics is {0} and p value is {1}\".format(norm_stats[0], norm_stats[1]))\n",
    "\n",
    "jb_stats = jarque_bera(reading_score_boxcox)\n",
    "norm_stats = normaltest(reading_score_boxcox)\n",
    "\n",
    "print(\"Jarque-Bera test statistics is {0} and p value is {1}\".format(jb_stats[0], jb_stats[1]))\n",
    "print(\"Normality test statistics is {0} and p value is {1}\".format(norm_stats[0], norm_stats[1]))\n",
    "\n",
    "jb_stats = jarque_bera(writing_score_boxcox)\n",
    "norm_stats = normaltest(writing_score_boxcox)\n",
    "\n",
    "print(\"Jarque-Bera test statistics is {0} and p value is {1}\".format(jb_stats[0], jb_stats[1]))\n",
    "print(\"Normality test statistics is {0} and p value is {1}\".format(norm_stats[0], norm_stats[1]))"
   ]
  },
  {
   "cell_type": "markdown",
   "metadata": {},
   "source": [
    "After applying Box-Cox transformation, the distributions of exams scores are more normal according to Jarque-Bera and Normality tests. The only exception was the Normality test of the writng scores which failed and it was significantly different from normal distribution. "
   ]
  },
  {
   "cell_type": "code",
   "execution_count": 103,
   "metadata": {},
   "outputs": [],
   "source": [
    "col = student.loc[:, \"math score\":\"writing score\"]\n",
    "student[\"avg_exam_score\"] = col.mean(axis=1)"
   ]
  },
  {
   "cell_type": "code",
   "execution_count": 104,
   "metadata": {},
   "outputs": [
    {
     "name": "stdout",
     "output_type": "stream",
     "text": [
      "Jarque-Bera test statistics is 15.453387913085168 and p value is 0.00044089934264401887\n",
      "Normality test statistics is 15.186721327231322 and p value is 0.0005037851534494478\n"
     ]
    }
   ],
   "source": [
    "jb_stats = jarque_bera(student[\"avg_exam_score\"])\n",
    "norm_stats = normaltest(student[\"avg_exam_score\"])\n",
    "\n",
    "print(\"Jarque-Bera test statistics is {0} and p value is {1}\".format(jb_stats[0], jb_stats[1]))\n",
    "print(\"Normality test statistics is {0} and p value is {1}\".format(norm_stats[0], norm_stats[1]))"
   ]
  },
  {
   "cell_type": "markdown",
   "metadata": {},
   "source": [
    "Both tests showed that the new variable distribution is not normal."
   ]
  },
  {
   "cell_type": "code",
   "execution_count": 105,
   "metadata": {},
   "outputs": [
    {
     "name": "stdout",
     "output_type": "stream",
     "text": [
      "Jarque-Bera test statistics is 2.4353987431906026 and p value is 0.29591016374203183\n",
      "Normality test statistics is 2.779857245981238 and p value is 0.2490930835165177\n"
     ]
    }
   ],
   "source": [
    "avg_exam_score_boxcox,_ = boxcox(student[\"avg_exam_score\"])\n",
    "\n",
    "jb_stats = jarque_bera(avg_exam_score_boxcox)\n",
    "norm_stats = normaltest(avg_exam_score_boxcox)\n",
    "\n",
    "print(\"Jarque-Bera test statistics is {0} and p value is {1}\".format(jb_stats[0], jb_stats[1]))\n",
    "print(\"Normality test statistics is {0} and p value is {1}\".format(norm_stats[0], norm_stats[1]))"
   ]
  },
  {
   "cell_type": "markdown",
   "metadata": {},
   "source": [
    "After applying Box-Cox transformation, the new variable distribution is normal now."
   ]
  },
  {
   "cell_type": "code",
   "execution_count": 117,
   "metadata": {},
   "outputs": [
    {
     "data": {
      "image/png": "[encoded data removed]",
      "text/plain": [
       "<Figure size 1080x1080 with 5 Axes>"
      ]
     },
     "metadata": {
      "needs_background": "light"
     },
     "output_type": "display_data"
    }
   ],
   "source": [
    "student = student.sort_values(['race/ethnicity']).reset_index(drop=True)\n",
    "\n",
    "plt.figure(figsize=(15, 15))\n",
    "\n",
    "plt.subplot(2, 3, 1)\n",
    "ax = sns.barplot(student[\"gender\"], student[\"avg_exam_score\"])\n",
    "plt.title(\"Average Exam Scores vs Gender\")\n",
    "plt.xticks(rotation=\"vertical\")\n",
    "ax.set(xlabel=\" \", ylabel=\" \")\n",
    "\n",
    "plt.subplot(2, 3, 2)\n",
    "ax = sns.barplot(student[\"race/ethnicity\"], student[\"avg_exam_score\"])\n",
    "plt.title(\"Average Exam Scores vs Race/Ethnicity\")\n",
    "plt.xticks(rotation=\"vertical\")\n",
    "ax.set(xlabel=\" \", ylabel=\" \")\n",
    "\n",
    "plt.subplot(2, 3, 3)\n",
    "ax = sns.barplot(student[\"parental level of education\"], student[\"avg_exam_score\"])\n",
    "plt.title(\"Average Exam Scores vs Parental Level of Education\")\n",
    "plt.xticks(rotation=\"vertical\")\n",
    "ax.set(xlabel=\" \", ylabel=\" \")\n",
    "\n",
    "plt.subplot(2, 3, 4)\n",
    "ax = sns.barplot(student[\"lunch\"], student[\"avg_exam_score\"])\n",
    "plt.title(\"Average Exam Scores vs Lunch Type\")\n",
    "plt.xticks(rotation=\"vertical\")\n",
    "ax.set(xlabel=\" \", ylabel=\" \")\n",
    "\n",
    "plt.subplot(2, 3, 5)\n",
    "ax = sns.barplot(student[\"test preparation course\"], student[\"avg_exam_score\"])\n",
    "plt.title(\"Average Exam Scores vs Test Preparation Course\")\n",
    "plt.xticks(rotation=\"vertical\")\n",
    "ax.set(xlabel=\" \", ylabel=\" \")\n",
    "\n",
    "plt.show()"
   ]
  },
  {
   "cell_type": "markdown",
   "metadata": {},
   "source": [
    "Since all the other variables in the dataframe where categorical, the best way to compare a continous variable like (avg_exam_score) to them is bar plot.\n",
    "\n",
    "1. Females score higher than males in average. Gender migh be related to the new variable.\n",
    "\n",
    "2. Ethnicity is related to the new variable. the average score is the lowest for ethnicity \"A\" and gradually increase to the maximum with ethnicity \"E\". \n",
    "\n",
    "3. Eventhough the plot did not show it clearly due to the ordering of the values of the x axis, but the level of parents education plays a role here. As the parents level of education goes higher, the everage exams score of the students goes higher.\n",
    "\n",
    "4. The students who have  a standard lunch type receive huigher scores than the students with reduced/free meals.\n",
    "\n",
    "5. The students who completed a test preparation course scored higher than the students who did not take or complete the course.\n",
    "\n",
    "All these varibales are related to the average exam score, but we need to be careful, becuase all these variables might be an effect of another variable.\n",
    "\n",
    "level of household income might be an important variable that caused all this variables to correlate with the average exam score. Ethnicity could not be the reason but the level of income varies by ethnicity and the difference of scores by ethnicity could be due to different level of household income. the same thing could be elaborated for the lunch type and test preparation course. The level of parent s education could not be the reason but might be the level of income. In general, as the education elevel increase the level of income increases as well. Gender might not be affected by the level of income but we need to check if the distribution of student gender based on level of income is not biased.\n"
   ]
  },
  {
   "cell_type": "code",
   "execution_count": 129,
   "metadata": {},
   "outputs": [
    {
     "name": "stdout",
     "output_type": "stream",
     "text": [
      "t-test between groups female and male:\n",
      "Ttest_indResult(statistic=4.169913529142, pvalue=3.311973638243664e-05)\n",
      "----------------------------------------\n",
      "t-test between groups group A and group B:\n",
      "Ttest_indResult(statistic=-1.3165043669633565, pvalue=0.18909305895094317)\n",
      "t-test between groups group A and group C:\n",
      "Ttest_indResult(statistic=-2.466593204095113, pvalue=0.014052604831600861)\n",
      "t-test between groups group A and group D:\n",
      "Ttest_indResult(statistic=-3.717941592338668, pvalue=0.00023390416748799434)\n",
      "t-test between groups group A and group E:\n",
      "Ttest_indResult(statistic=-4.95866828996161, pvalue=1.3897910469517452e-06)\n",
      "t-test between groups group B and group C:\n",
      "Ttest_indResult(statistic=-1.2782467415831538, pvalue=0.20174731227733955)\n",
      "t-test between groups group B and group D:\n",
      "Ttest_indResult(statistic=-2.8031083992077255, pvalue=0.005279949204374891)\n",
      "t-test between groups group B and group E:\n",
      "Ttest_indResult(statistic=-4.46037807261396, pvalue=1.1254806793764281e-05)\n",
      "t-test between groups group C and group D:\n",
      "Ttest_indResult(statistic=-1.8063576953600955, pvalue=0.07138158673813609)\n",
      "t-test between groups group C and group E:\n",
      "Ttest_indResult(statistic=-3.935868946604549, pvalue=9.580199335080177e-05)\n",
      "t-test between groups group D and group E:\n",
      "Ttest_indResult(statistic=-2.4870480585806196, pvalue=0.013287580176112115)\n",
      "----------------------------------------\n",
      "t-test between groups some college and some high school:\n",
      "Ttest_indResult(statistic=2.356277575721369, pvalue=0.018937067340474914)\n",
      "t-test between groups some college and associate's degree:\n",
      "Ttest_indResult(statistic=-0.8445790843435994, pvalue=0.3987986989245912)\n",
      "t-test between groups some college and high school:\n",
      "Ttest_indResult(statistic=4.047081496222548, pvalue=6.174004426350724e-05)\n",
      "t-test between groups some college and bachelor's degree:\n",
      "Ttest_indResult(statistic=-2.2007468666708436, pvalue=0.0284218539417966)\n",
      "t-test between groups some college and master's degree:\n",
      "Ttest_indResult(statistic=-2.5596520690466438, pvalue=0.010997532204148747)\n",
      "t-test between groups some high school and associate's degree:\n",
      "Ttest_indResult(statistic=-3.1116745225162394, pvalue=0.0019941146059025677)\n",
      "t-test between groups some high school and high school:\n",
      "Ttest_indResult(statistic=1.36670774310701, pvalue=0.17254014007827484)\n",
      "t-test between groups some high school and bachelor's degree:\n",
      "Ttest_indResult(statistic=-3.9418548769668096, pvalue=0.00010103335958568406)\n",
      "t-test between groups some high school and master's degree:\n",
      "Ttest_indResult(statistic=-3.8591553470950677, pvalue=0.00014689256269947746)\n",
      "t-test between groups associate's degree and high school:\n",
      "Ttest_indResult(statistic=4.8568272185010555, pvalue=1.6916651763781133e-06)\n",
      "t-test between groups associate's degree and bachelor's degree:\n",
      "Ttest_indResult(statistic=-1.50130096459831, pvalue=0.13421131516223636)\n",
      "t-test between groups associate's degree and master's degree:\n",
      "Ttest_indResult(statistic=-2.014634576109434, pvalue=0.044902247757123814)\n",
      "t-test between groups high school and bachelor's degree:\n",
      "Ttest_indResult(statistic=-5.539323736236866, pvalue=6.4577801619771e-08)\n",
      "t-test between groups high school and master's degree:\n",
      "Ttest_indResult(statistic=-5.226505457467746, pvalue=3.615968596010427e-07)\n",
      "t-test between groups bachelor's degree and master's degree:\n",
      "Ttest_indResult(statistic=-0.7594769500339177, pvalue=0.44858913212019313)\n",
      "----------------------------------------\n",
      "t-test between groups standard and free/reduced:\n",
      "Ttest_indResult(statistic=9.575113051511476, pvalue=7.736791812495384e-21)\n",
      "----------------------------------------\n",
      "t-test between groups completed and none:\n",
      "Ttest_indResult(statistic=8.390944443482592, pvalue=1.633780203592351e-16)\n",
      "----------------------------------------\n"
     ]
    }
   ],
   "source": [
    "gender = student[\"gender\"].unique()\n",
    "gender_score = student.groupby(\"gender\")\n",
    "print(\"t-test between groups {0} and {1}:\".format(gender[0], gender[1]))\n",
    "print(stats.ttest_ind(\n",
    "                student[student[\"gender\"]==gender[0]][\"avg_exam_score\"], \n",
    "                student[student[\"gender\"]==gender[1]][\"avg_exam_score\"]\n",
    "            ))\n",
    "print(\"----------------------------------------\")\n",
    "\n",
    "ethnicity = student[\"race/ethnicity\"].unique()\n",
    "ethnicity_score = student.groupby(\"race/ethnicity\")\n",
    "for i in range(0, len(ethnicity)):\n",
    "    for j in range(i+1, len(ethnicity)):\n",
    "        print(\"t-test between groups {0} and {1}:\".format(ethnicity[i], ethnicity[j]))\n",
    "        print(stats.ttest_ind(\n",
    "            student[student[\"race/ethnicity\"]==ethnicity[i]][\"avg_exam_score\"], \n",
    "            student[student[\"race/ethnicity\"]==ethnicity[j]][\"avg_exam_score\"]\n",
    "        ))\n",
    "print(\"----------------------------------------\")\n",
    "\n",
    "parental_edu = student[\"parental level of education\"].unique()\n",
    "parental_edu_score = student.groupby(\"parental level of education\")\n",
    "for i in range(0, len(parental_edu)):\n",
    "    for j in range(i+1, len(parental_edu)):\n",
    "        print(\"t-test between groups {0} and {1}:\".format(parental_edu[i], parental_edu[j]))\n",
    "        print(stats.ttest_ind(\n",
    "            student[student[\"parental level of education\"]==parental_edu[i]][\"avg_exam_score\"], \n",
    "            student[student[\"parental level of education\"]==parental_edu[j]][\"avg_exam_score\"]\n",
    "        ))\n",
    "print(\"----------------------------------------\")\n",
    "\n",
    "lunch = student[\"lunch\"].unique()\n",
    "lunch_score = student.groupby(\"lunch\")\n",
    "print(\"t-test between groups {0} and {1}:\".format(lunch[0], lunch[1]))\n",
    "print(stats.ttest_ind(\n",
    "                student[student[\"lunch\"]==lunch[0]][\"avg_exam_score\"], \n",
    "                student[student[\"lunch\"]==lunch[1]][\"avg_exam_score\"]\n",
    "            ))\n",
    "print(\"----------------------------------------\")\n",
    "\n",
    "test_prep = student[\"test preparation course\"].unique()\n",
    "test_prep_score = student.groupby(\"test preparation course\")\n",
    "print(\"t-test between groups {0} and {1}:\".format(test_prep[0], test_prep[1]))\n",
    "print(stats.ttest_ind(\n",
    "                student[student[\"test preparation course\"]==test_prep[0]][\"avg_exam_score\"], \n",
    "                student[student[\"test preparation course\"]==test_prep[1]][\"avg_exam_score\"]\n",
    "            ))\n",
    "print(\"----------------------------------------\")"
   ]
  }
 ],
 "metadata": {
  "kernelspec": {
   "display_name": "Python 3",
   "language": "python",
   "name": "python3"
  },
  "language_info": {
   "codemirror_mode": {
    "name": "ipython",
    "version": 3
   },
   "file_extension": ".py",
   "mimetype": "text/x-python",
   "name": "python",
   "nbconvert_exporter": "python",
   "pygments_lexer": "ipython3",
   "version": "3.7.3"
  }
 },
 "nbformat": 4,
 "nbformat_minor": 2
}
